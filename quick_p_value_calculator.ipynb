{
  "nbformat": 4,
  "nbformat_minor": 0,
  "metadata": {
    "colab": {
      "provenance": [],
      "authorship_tag": "ABX9TyM3WPYdBwF1CKcFy22JE/At",
      "include_colab_link": true
    },
    "kernelspec": {
      "name": "python3",
      "display_name": "Python 3"
    },
    "language_info": {
      "name": "python"
    }
  },
  "cells": [
    {
      "cell_type": "markdown",
      "metadata": {
        "id": "view-in-github",
        "colab_type": "text"
      },
      "source": [
        "<a href=\"https://colab.research.google.com/github/simsekahmet/quick_p_value_calculator/blob/main/quick_p_value_calculator.ipynb\" target=\"_parent\"><img src=\"https://colab.research.google.com/assets/colab-badge.svg\" alt=\"Open In Colab\"/></a>"
      ]
    },
    {
      "cell_type": "code",
      "source": [
        "def calculate_p_value_with_z(z_score, alpha, tail=\"two\"):\n",
        "    \"\"\"Quick calculation of P value with Z score\n",
        "\n",
        "    --------------------\n",
        "    Args:\n",
        "        z_score (float): Z score of your data.\n",
        "        alpha (float): significance level.\n",
        "        tail (str, optional), (\"one\" or \"two\"): considers differences or relationships. Defaults to \"two\".\n",
        "\n",
        "    --------------------\n",
        "    Returns:\n",
        "        p_value (float): Calculated p value with z score.\n",
        "                         Prints Fail to reject null hypothesis or reject null hypothesis\n",
        "    \"\"\"\n",
        "    import scipy.stats as stats\n",
        "    if tail == \"one\":\n",
        "        if z_score < 0:\n",
        "            p_value = stats.norm.cdf(z_score)\n",
        "        else:\n",
        "            p_value = 1 - stats.norm.cdf(z_score)\n",
        "    else:\n",
        "        p_value = 2 * (1 - stats.norm.cdf(abs(z_score)))\n",
        "\n",
        "    if p_value < alpha:\n",
        "        print(\"Reject null hypothesis. p-value:\", p_value)\n",
        "    else:\n",
        "        print(\"Fail to reject null hypothesis. p-value:\", p_value)\n",
        "\n",
        "    return p_value\n",
        "\n",
        "calculate_p_value_with_z(1.23, 0.1, tail=\"one\")\n"
      ],
      "metadata": {
        "colab": {
          "base_uri": "https://localhost:8080/"
        },
        "id": "kIwGDC9vGjl3",
        "outputId": "4f523f4f-fbdf-4b68-d806-946cdc097d47"
      },
      "execution_count": 5,
      "outputs": [
        {
          "output_type": "stream",
          "name": "stdout",
          "text": [
            "Fail to reject null hypothesis. p-value: 0.10934855242569186\n"
          ]
        },
        {
          "output_type": "execute_result",
          "data": {
            "text/plain": [
              "0.10934855242569186"
            ]
          },
          "metadata": {},
          "execution_count": 5
        }
      ]
    },
    {
      "cell_type": "code",
      "source": [
        "def calculate_p_value_with_t(t_score, df, alpha, tail=\"two\"):\n",
        "    \"\"\"Quick calculation of P value with T score\n",
        "\n",
        "    --------------------\n",
        "    Args:\n",
        "        t_score (float): T score of your data.\n",
        "        df (int, float): degrees of freedom.\n",
        "        alpha (float): significance level.\n",
        "        tail (str, optional), (\"one\" or \"two\"): considers differences or relationships. Defaults to \"two\".\n",
        "\n",
        "    --------------------\n",
        "    Returns:\n",
        "        p_value (float): Calculated p value with t score.\n",
        "                         Prints Fail to reject null hypothesis or reject null hypothesis\n",
        "    \"\"\"\n",
        "    import scipy.stats as stats\n",
        "    if tail == \"one\":\n",
        "        p_value = stats.t.sf(abs(t_score), df)\n",
        "    else:\n",
        "        p_value = 2 * stats.t.sf(abs(t_score), df)\n",
        "\n",
        "    if p_value < alpha:\n",
        "        print(\"Reject null hypothesis. p-value:\", p_value)\n",
        "    else:\n",
        "        print(\"Fail to reject null hypothesis. p-value:\", p_value)\n",
        "\n",
        "    return p_value\n",
        "\n",
        "calculate_p_value_with_t(2.31, 10, 0.05)\n"
      ],
      "metadata": {
        "colab": {
          "base_uri": "https://localhost:8080/"
        },
        "id": "mTAL-9KwGm2J",
        "outputId": "028f048d-79a2-464d-f29d-eb10e1c040a7"
      },
      "execution_count": 7,
      "outputs": [
        {
          "output_type": "stream",
          "name": "stdout",
          "text": [
            "Reject null hypothesis. p-value: 0.043507400842462816\n"
          ]
        },
        {
          "output_type": "execute_result",
          "data": {
            "text/plain": [
              "0.043507400842462816"
            ]
          },
          "metadata": {},
          "execution_count": 7
        }
      ]
    }
  ]
}